{
 "cells": [
  {
   "cell_type": "code",
   "execution_count": 2,
   "id": "ab76eecc",
   "metadata": {
    "ExecuteTime": {
     "end_time": "2022-04-12T14:48:12.184573Z",
     "start_time": "2022-04-12T14:48:12.178005Z"
    },
    "tags": [
     "remove-cell"
    ]
   },
   "outputs": [],
   "source": [
    "import warnings\n",
    "warnings.filterwarnings(\"ignore\")"
   ]
  },
  {
   "cell_type": "markdown",
   "id": "f607a9d1",
   "metadata": {},
   "source": [
    "[![View the code](https://img.shields.io/badge/GitHub-View_the_Code-blue?logo=GitHub)](https://github.com/khuyentran1401/Data-science/tree/master/productive_tools/precommit_examples)\n",
    "\n",
    "## 4 pre-commit Plugins to Automate Code Reviewing and Formatting in Python"
   ]
  },
  {
   "cell_type": "markdown",
   "id": "ab9c22db",
   "metadata": {},
   "source": [
    "### Motivation"
   ]
  },
  {
   "cell_type": "code",
   "execution_count": 3,
   "id": "9e4d7553",
   "metadata": {
    "ExecuteTime": {
     "end_time": "2022-04-12T14:48:13.061666Z",
     "start_time": "2022-04-12T14:48:13.050060Z"
    },
    "tags": [
     "remove-input"
    ]
   },
   "outputs": [
    {
     "data": {
      "text/html": [
       "<iframe width=\"560\" height=\"315\" src=\"https://www.youtube.com/embed/1CKNMgG7D64\" title=\"YouTube video player\" frameborder=\"0\" allow=\"accelerometer; autoplay; clipboard-write; encrypted-media; gyroscope; picture-in-picture\" allowfullscreen></iframe>"
      ],
      "text/plain": [
       "<IPython.core.display.HTML object>"
      ]
     },
     "execution_count": 3,
     "metadata": {},
     "output_type": "execute_result"
    }
   ],
   "source": [
    "from IPython.display import HTML\n",
    "\n",
    "# Youtube\n",
    "HTML('<iframe width=\"560\" height=\"315\" src=\"https://www.youtube.com/embed/1CKNMgG7D64\" title=\"YouTube video player\" frameborder=\"0\" allow=\"accelerometer; autoplay; clipboard-write; encrypted-media; gyroscope; picture-in-picture\" allowfullscreen></iframe>')"
   ]
  },
  {
   "cell_type": "markdown",
   "id": "a3071d38",
   "metadata": {},
   "source": [
    "When committing your Python code to Git, you need to make sure your code:\n",
    "\n",
    "-   looks nice\n",
    "-   is organized\n",
    "-   conforms to the PEP 8 style guide\n",
    "-   includes docstrings\n",
    "\n",
    "However, it can be overwhelming to check all of these criteria before committing your code. Wouldn’t it be nice if you can **automatically** check and format your code every time you commit new code like below?\n",
    "\n",
    "![](https://miro.medium.com/max/700/1*b1KAkP6CXPx669MAV3CoQg.png)\n",
    "\n",
    "That is when pre-commit comes in handy. In this section, you will learn what pre-commit is and which plugins you can add to a pre-commit pipeline.\n",
    "\n",
    "### What is pre-commit?\n",
    "\n",
    "pre-commit is a framework that allows you to identify simple issues in your code before committing it.\n",
    "\n",
    "You can add different plugins to your pre-commit pipeline. Once your files are committed, they will be checked by these plugins. Unless all checks pass, no code will be committed.\n",
    "\n",
    "![](https://miro.medium.com/max/700/1*VoFV8eM4iTCjZt7akM243Q.png)\n",
    "\n",
    "To install pre-commit, type:\n",
    "\n",
    "```bash\n",
    "pip install pre-commit\n",
    "```\n",
    "\n",
    "Cool! Now let’s add some useful plugins to our pre-commit pipeline."
   ]
  },
  {
   "cell_type": "markdown",
   "id": "5cb9c83b",
   "metadata": {},
   "source": [
    "### black"
   ]
  },
  {
   "cell_type": "code",
   "execution_count": 4,
   "id": "860e637f",
   "metadata": {
    "ExecuteTime": {
     "end_time": "2022-04-12T14:50:34.677981Z",
     "start_time": "2022-04-12T14:50:34.664338Z"
    },
    "tags": [
     "remove-input"
    ]
   },
   "outputs": [
    {
     "data": {
      "text/html": [
       "<iframe width=\"560\" height=\"315\" src=\"https://www.youtube.com/embed/fcRC07RJUGI\" title=\"YouTube video player\" frameborder=\"0\" allow=\"accelerometer; autoplay; clipboard-write; encrypted-media; gyroscope; picture-in-picture\" allowfullscreen></iframe>"
      ],
      "text/plain": [
       "<IPython.core.display.HTML object>"
      ]
     },
     "execution_count": 4,
     "metadata": {},
     "output_type": "execute_result"
    }
   ],
   "source": [
    "from IPython.display import HTML\n",
    "\n",
    "# Youtube\n",
    "HTML('<iframe width=\"560\" height=\"315\" src=\"https://www.youtube.com/embed/fcRC07RJUGI\" title=\"YouTube video player\" frameborder=\"0\" allow=\"accelerometer; autoplay; clipboard-write; encrypted-media; gyroscope; picture-in-picture\" allowfullscreen></iframe>')"
   ]
  },
  {
   "cell_type": "markdown",
   "id": "2b9e8e89",
   "metadata": {},
   "source": [
    "[black](https://black.readthedocs.io/en/stable/) is a code formatter in Python.\n",
    "\n",
    "To install black, type:\n",
    "\n",
    "```bash\n",
    "pip install black\n",
    "```\n",
    "\n",
    "Now to see what black can do, we’ll write a very long function like below. Since there are more than 79 characters in the first line of code, this violates PEP 8.\n",
    "\n",
    "Let’s try to format the code using black:\n",
    "\n",
    "```bash\n",
    "$ black long_function.py\n",
    "```\n",
    "\n",
    "And the code is automatically formatted like below!\n",
    "\n",
    "```python\n",
    "def very_long_function(\n",
    "    long_variable_name,\n",
    "    long_variable_name2,\n",
    "    long_variable_name3,\n",
    "    long_variable_name4,\n",
    "    long_variable_name5,\n",
    "):\n",
    "    pass\n",
    "```\n",
    "\n",
    "To add black to a pre-commit pipeline, create a file named `.pre-commit-config.yaml` and insert the following code to the file:\n",
    "```yaml\n",
    "repos:\n",
    "-   repo: https://github.com/ambv/black\n",
    "    rev: 20.8b1\n",
    "    hooks:\n",
    "    - id: black\n",
    "```\n",
    "\n",
    "To choose which files to include and exclude when running black, create a file named `pyproject.toml` and add the following code to the `pyproject.toml` file:\n",
    "\n",
    "```bash\n",
    "[tool.black]\n",
    "line-length = 79\n",
    "include = '\\.pyi?$'\n",
    "exclude = '''\n",
    "/(\n",
    "\t\\.git\n",
    "| \\.hg\n",
    "| \\.mypy_cache\n",
    "| \\.tox\n",
    "| \\.venv\n",
    "| _build\n",
    "| buck-out\n",
    "| build   \n",
    ")/ \n",
    "'''\n",
    "```"
   ]
  },
  {
   "cell_type": "markdown",
   "id": "fa10015c",
   "metadata": {},
   "source": [
    "### flake8"
   ]
  },
  {
   "cell_type": "code",
   "execution_count": 5,
   "id": "3dc22ed9",
   "metadata": {
    "ExecuteTime": {
     "end_time": "2022-04-12T14:51:50.955475Z",
     "start_time": "2022-04-12T14:51:50.945781Z"
    },
    "tags": [
     "remove-input"
    ]
   },
   "outputs": [
    {
     "data": {
      "text/html": [
       "<iframe width=\"560\" height=\"315\" src=\"https://www.youtube.com/embed/8cKSesTJUFo\" title=\"YouTube video player\" frameborder=\"0\" allow=\"accelerometer; autoplay; clipboard-write; encrypted-media; gyroscope; picture-in-picture\" allowfullscreen></iframe>"
      ],
      "text/plain": [
       "<IPython.core.display.HTML object>"
      ]
     },
     "execution_count": 5,
     "metadata": {},
     "output_type": "execute_result"
    }
   ],
   "source": [
    "from IPython.display import HTML\n",
    "\n",
    "# Youtube\n",
    "HTML('<iframe width=\"560\" height=\"315\" src=\"https://www.youtube.com/embed/8cKSesTJUFo\" title=\"YouTube video player\" frameborder=\"0\" allow=\"accelerometer; autoplay; clipboard-write; encrypted-media; gyroscope; picture-in-picture\" allowfullscreen></iframe>')"
   ]
  },
  {
   "cell_type": "markdown",
   "id": "6302f873",
   "metadata": {},
   "source": [
    "[flake8](https://flake8.pycqa.org/en/latest/) is a python tool that checks the style and quality of your Python code. It checks for various issues not covered by black.\n",
    "\n",
    "To install flake8, type:\n",
    "\n",
    "```bash\n",
    "pip install flake8\n",
    "```\n",
    "\n",
    "To see what flake8 does, let’s write code that violates some guidelines in PEP 8.\n",
    "\n",
    "```python\n",
    "def very_long_function_name(var1, var2, var3,\n",
    "var4, var5):\n",
    "    print(var1, var2, var3, var4, var5)\n",
    "\n",
    "very_long_function_name(1, 2, 3, 4, 5)\n",
    "```\n",
    "\n",
    "Next, check the code using flake8:\n",
    "\n",
    "```bash\n",
    "$ flake8 flake_example.py\n",
    "```\n",
    "```bash\n",
    "flake8_example.py:2:1: E128 continuation line under-indented for visual indent\n",
    "flake8_example.py:5:1: E305 expected 2 blank lines after class or function definition, found 1\n",
    "flake8_example.py:5:39: W292 no newline at end of file\n",
    "```\n",
    "Aha! flake8 detects 3 PEP 8 formatting errors. We can use these errors as the guidelines to fix the code.\n",
    "\n",
    "```python\n",
    "def very_long_function_name(var1, var2, var3, var4, var5):\n",
    "    print(var1, var2, var3, var4, var5)\n",
    "\n",
    "\n",
    "very_long_function_name(1, 2, 3, 4, 5)\n",
    "```\n",
    "\n",
    "The code looks much better now!\n",
    "\n",
    "To add flake8 to the pre-commit pipeline, insert the following code to the `.pre-commit-config.yaml` file:\n",
    "```yaml\n",
    "-   repo: https://gitlab.com/pycqa/flake8\n",
    "    rev: 3.8.4\n",
    "    hooks:\n",
    "    - id: flake8\n",
    "```\n",
    "\n",
    "\n",
    "To choose which errors to ignore or to edit other configurations, create a file named `.flake8` and add the following code to the `.flake8` file:\n",
    "```bash\n",
    "[flake8]\n",
    "ignore = E203, E266, E501, W503, F403, F401\n",
    "max-line-length = 79\n",
    "max-complexity = 18\n",
    "select = B,C,E,F,W,T4,B9\n",
    "```"
   ]
  },
  {
   "cell_type": "markdown",
   "id": "da148beb",
   "metadata": {},
   "source": [
    "### isort"
   ]
  },
  {
   "cell_type": "code",
   "execution_count": 6,
   "id": "899a2bca",
   "metadata": {
    "ExecuteTime": {
     "end_time": "2022-04-12T14:52:14.262510Z",
     "start_time": "2022-04-12T14:52:14.252489Z"
    },
    "tags": [
     "remove-input"
    ]
   },
   "outputs": [
    {
     "data": {
      "text/html": [
       "<iframe width=\"560\" height=\"315\" src=\"https://www.youtube.com/embed/EQRjVypFdfo\" title=\"YouTube video player\" frameborder=\"0\" allow=\"accelerometer; autoplay; clipboard-write; encrypted-media; gyroscope; picture-in-picture\" allowfullscreen></iframe>"
      ],
      "text/plain": [
       "<IPython.core.display.HTML object>"
      ]
     },
     "execution_count": 6,
     "metadata": {},
     "output_type": "execute_result"
    }
   ],
   "source": [
    "from IPython.display import HTML\n",
    "\n",
    "# Youtube\n",
    "HTML('<iframe width=\"560\" height=\"315\" src=\"https://www.youtube.com/embed/EQRjVypFdfo\" title=\"YouTube video player\" frameborder=\"0\" allow=\"accelerometer; autoplay; clipboard-write; encrypted-media; gyroscope; picture-in-picture\" allowfullscreen></iframe>')"
   ]
  },
  {
   "cell_type": "markdown",
   "id": "1dc25eef",
   "metadata": {},
   "source": [
    "[isort](https://github.com/PyCQA/isort) is a Python library that automatically sorts imported libraries alphabetically and separates them into sections and types.\n",
    "\n",
    "To install isort, type:\n",
    "\n",
    "```bash\n",
    "pip install isort\n",
    "```\n",
    "\n",
    "Let’s try to use isort to sort messy imports like below:\n",
    "\n",
    "```python\n",
    "import pandas as pd \n",
    "import numpy as np \n",
    "import matplotlib.pyplot as plt\n",
    "from flake8_example import very_long_function_name\n",
    "from sklearn.model_selection import train_test_split\n",
    "from sklearn.linear_model import LogisticRegression, OrderedLogisticRegression, \\\n",
    "    LinearRegression, LogisticRegressionCV, LinearRegressionCV \n",
    "```\n",
    "\n",
    "```bash\n",
    "$ isort isort_example.py\n",
    "```\n",
    "\n",
    "Output:\n",
    "```python\n",
    "import matplotlib.pyplot as plt\n",
    "import numpy as np\n",
    "import pandas as pd\n",
    "from flake8_example import very_long_function_name\n",
    "from sklearn.linear_model import (\n",
    "    LinearRegression,\n",
    "    LinearRegressionCV,\n",
    "    LogisticRegression,\n",
    "    LogisticRegressionCV,\n",
    "    OrderedLogisticRegression,\n",
    ")\n",
    "from sklearn.model_selection import train_test_split\n",
    "```\n",
    "\n",
    "Cool! The imports are much more organized now.\n",
    "\n",
    "To add isort to the pre-commit pipeline, add the following code to the `.pre-commit-config.yaml` file:\n",
    "```yaml\n",
    "\n",
    "-   repo: https://github.com/timothycrosley/isort\n",
    "    rev: 5.7.0\n",
    "    hooks:\n",
    "    -   id: isort\n",
    "```"
   ]
  },
  {
   "cell_type": "markdown",
   "id": "33281f7f",
   "metadata": {},
   "source": [
    "### interrogate"
   ]
  },
  {
   "cell_type": "code",
   "execution_count": 7,
   "id": "7cb7e380",
   "metadata": {
    "ExecuteTime": {
     "end_time": "2022-04-12T14:52:33.941533Z",
     "start_time": "2022-04-12T14:52:33.926470Z"
    },
    "tags": [
     "remove-input"
    ]
   },
   "outputs": [
    {
     "data": {
      "text/html": [
       "<iframe width=\"560\" height=\"315\" src=\"https://www.youtube.com/embed/m3WDafkpbpM\" title=\"YouTube video player\" frameborder=\"0\" allow=\"accelerometer; autoplay; clipboard-write; encrypted-media; gyroscope; picture-in-picture\" allowfullscreen></iframe>"
      ],
      "text/plain": [
       "<IPython.core.display.HTML object>"
      ]
     },
     "execution_count": 7,
     "metadata": {},
     "output_type": "execute_result"
    }
   ],
   "source": [
    "from IPython.display import HTML\n",
    "\n",
    "# Youtube\n",
    "HTML('<iframe width=\"560\" height=\"315\" src=\"https://www.youtube.com/embed/m3WDafkpbpM\" title=\"YouTube video player\" frameborder=\"0\" allow=\"accelerometer; autoplay; clipboard-write; encrypted-media; gyroscope; picture-in-picture\" allowfullscreen></iframe>')"
   ]
  },
  {
   "cell_type": "markdown",
   "id": "16dae8b9",
   "metadata": {},
   "source": [
    "[interrogate](https://interrogate.readthedocs.io/en/latest/index.html?highlight=pre-commit) checks your codebase for missing docstrings.\n",
    "\n",
    "To install interrogate, type:\n",
    "\n",
    "```bash\n",
    "pip install interrogate\n",
    "```\n",
    "\n",
    "Sometimes, we might forget to write docstrings for classes and functions like below:\n",
    "```python\n",
    "class MathOperation:\n",
    "    def __init__(self, num) -> None:\n",
    "        self.num = num \n",
    "\n",
    "    def plus_two(self):\n",
    "        return self.num + 2\n",
    "\n",
    "    def multiply_three(self):\n",
    "        return self.num * 3\n",
    "```\n",
    "\n",
    "Instead of manually looking at all our functions and classes for missing docstrings, we can run interrogate instead:\n",
    "\n",
    "```bash\n",
    "$ interrogate -vv interrogate_example.py\n",
    "```\n",
    "\n",
    "Output:\n",
    "\n",
    "![](https://miro.medium.com/max/700/1*8CeDRAfu9SuVOWcvpGjw8A.png)\n",
    "\n",
    "Cool! From the terminal output, we know which files, classes, and functions don’t have docstrings. Since we know the locations of missing docstrings, adding them is easy.\n",
    "\n",
    "```python\n",
    "\"\"\"Example for interrogate\"\"\"\n",
    "\n",
    "class MathOperation:\n",
    "    \"\"\"Perform math operation\"\"\"\n",
    "    def __init__(self, num) -> None:\n",
    "        self.num = num \n",
    "\n",
    "    def plus_two(self):\n",
    "        \"\"\"Add 2\"\"\"\n",
    "        return self.num + 2\n",
    "\n",
    "    def multiply_three(self):\n",
    "        \"\"\"Multiply by 3\"\"\"\n",
    "        return self.num * 3\n",
    "```\n",
    "\n",
    "```bash\n",
    "$ interrogate -vv interrogate_example.py\n",
    "```\n",
    "\n",
    "![](https://miro.medium.com/max/700/1*z7ixNpScwuuTzOg4GLWODw.png)\n",
    "\n",
    "The docstring for the `__init__` method is missing, but it is not necessary. We can tell interrogate to ignore the `__init__` method by adding `-i` to the argument:\n",
    "\n",
    "```bash\n",
    "$ interrogate -vv -i interrogate_example.py\n",
    "```\n",
    "\n",
    "![](https://miro.medium.com/max/700/1*jy7bW4OCOSZHBjvglxdCCg.png)\n",
    "\n",
    "Cool! To add interrogate to the pre-commit pipeline, insert the following code to the `.pre-commit-config.yaml` file:\n",
    "```yaml\n",
    "- repo: https://github.com/econchick/interrogate\n",
    "    rev: 1.4.0  \n",
    "    hooks:\n",
    "      - id: interrogate\n",
    "        args: [--vv, -i, --fail-under=80]\n",
    "```\n",
    "\n",
    "To edit interrogate’s default configurations, insert the following code to the`pyproject.toml` file:\n",
    "\n",
    "```bash\n",
    "[tool.interrogate]\n",
    "ignore-init-method = true\n",
    "ignore-init-module = false\n",
    "ignore-magic = false\n",
    "ignore-semiprivate = false\n",
    "ignore-private = false\n",
    "ignore-property-decorators = false\n",
    "ignore-module = true\n",
    "ignore-nested-functions = false\n",
    "ignore-nested-classes = true\n",
    "ignore-setters = false\n",
    "fail-under = 95\n",
    "exclude = [\"setup.py\", \"docs\", \"build\"]\n",
    "ignore-regex = [\"^get$\", \"^mock_.*\", \".*BaseClass.*\"]\n",
    "verbose = 0\n",
    "quiet = false\n",
    "whitelist-regex = []\n",
    "color = true\n",
    "generate-badge = \".\"\n",
    "badge-format = \"svg\"\n",
    "```"
   ]
  },
  {
   "cell_type": "markdown",
   "id": "daed5332",
   "metadata": {},
   "source": [
    "### Final Step — Add pre-commit to Git Hooks"
   ]
  },
  {
   "cell_type": "code",
   "execution_count": 9,
   "id": "3fec990a",
   "metadata": {
    "ExecuteTime": {
     "end_time": "2022-04-12T14:53:23.786520Z",
     "start_time": "2022-04-12T14:53:23.774122Z"
    },
    "tags": [
     "remove-input"
    ]
   },
   "outputs": [
    {
     "data": {
      "text/html": [
       "<iframe width=\"560\" height=\"315\" src=\"https://www.youtube.com/embed/1Q1VOIrQ9GA\" title=\"YouTube video player\" frameborder=\"0\" allow=\"accelerometer; autoplay; clipboard-write; encrypted-media; gyroscope; picture-in-picture\" allowfullscreen></iframe>"
      ],
      "text/plain": [
       "<IPython.core.display.HTML object>"
      ]
     },
     "execution_count": 9,
     "metadata": {},
     "output_type": "execute_result"
    }
   ],
   "source": [
    "from IPython.display import HTML\n",
    "\n",
    "# Youtube\n",
    "HTML('<iframe width=\"560\" height=\"315\" src=\"https://www.youtube.com/embed/1Q1VOIrQ9GA\" title=\"YouTube video player\" frameborder=\"0\" allow=\"accelerometer; autoplay; clipboard-write; encrypted-media; gyroscope; picture-in-picture\" allowfullscreen></iframe>')"
   ]
  },
  {
   "cell_type": "markdown",
   "id": "2b4be12e",
   "metadata": {},
   "source": [
    "The final code in your `.pre-commit-config.yaml` file should look like below:\n",
    "```yaml\n",
    "repos:\n",
    "-   repo: https://github.com/ambv/black\n",
    "    rev: 20.8b1\n",
    "    hooks:\n",
    "    - id: black\n",
    "-   repo: https://gitlab.com/pycqa/flake8\n",
    "    rev: 3.8.4\n",
    "    hooks:\n",
    "    - id: flake8\n",
    "-   repo: https://github.com/timothycrosley/isort\n",
    "    rev: 5.7.0\n",
    "    hooks:\n",
    "    -   id: isort\n",
    "-   repo: https://github.com/econchick/interrogate\n",
    "    rev: 1.4.0  \n",
    "    hooks:\n",
    "    - id: interrogate\n",
    "      args: [-vv, -i, --fail-under=80]\n",
    "```\n",
    "To add pre-commit to git hooks, type:\n",
    "\n",
    "```bash\n",
    "$ pre-commit install\n",
    "```\n",
    "\n",
    "Output:\n",
    "\n",
    "```bash\n",
    "pre-commit installed at .git/hooks/pre-commit\n",
    "```"
   ]
  },
  {
   "cell_type": "markdown",
   "id": "9b2cfc60",
   "metadata": {},
   "source": [
    "### Commit\n",
    "\n",
    "Now we’re ready to commit the new code!\n",
    "\n",
    "```bash\n",
    "$ git commit -m 'add pre-commit examples'\n",
    "```\n",
    "\n",
    "And you should see something like below:\n",
    "\n",
    "![](https://miro.medium.com/max/700/1*b1KAkP6CXPx669MAV3CoQg.png)\n",
    "\n",
    "### Skip Verifying\n",
    "\n",
    "To prevent pre-commit from checking a certain commit, add `--no-verify` to `git commit` :\n",
    "\n",
    "```bash\n",
    "$ git commit -m 'add pre-commit examples' --no-verify\n",
    "```"
   ]
  }
 ],
 "metadata": {
  "celltoolbar": "Tags",
  "kernelspec": {
   "display_name": "Python 3 (ipykernel)",
   "language": "python",
   "name": "python3"
  },
  "language_info": {
   "codemirror_mode": {
    "name": "ipython",
    "version": 3
   },
   "file_extension": ".py",
   "mimetype": "text/x-python",
   "name": "python",
   "nbconvert_exporter": "python",
   "pygments_lexer": "ipython3",
   "version": "3.9.10"
  },
  "toc": {
   "base_numbering": 1,
   "nav_menu": {},
   "number_sections": true,
   "sideBar": true,
   "skip_h1_title": false,
   "title_cell": "Table of Contents",
   "title_sidebar": "Contents",
   "toc_cell": false,
   "toc_position": {},
   "toc_section_display": true,
   "toc_window_display": false
  }
 },
 "nbformat": 4,
 "nbformat_minor": 5
}
