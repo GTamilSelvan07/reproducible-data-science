{
 "cells": [
  {
   "cell_type": "code",
   "execution_count": 2,
   "id": "6d4ccd57",
   "metadata": {
    "ExecuteTime": {
     "end_time": "2022-03-31T02:16:16.755459Z",
     "start_time": "2022-03-31T02:16:16.748513Z"
    },
    "tags": [
     "remove-cell"
    ]
   },
   "outputs": [],
   "source": [
    "import warnings\n",
    "warnings.filterwarnings(\"ignore\")"
   ]
  },
  {
   "cell_type": "markdown",
   "id": "fb6cdba3",
   "metadata": {},
   "source": [
    "# Test Code"
   ]
  },
  {
   "cell_type": "code",
   "execution_count": 4,
   "id": "8de8df0b",
   "metadata": {
    "ExecuteTime": {
     "end_time": "2022-03-31T02:28:05.489015Z",
     "start_time": "2022-03-31T02:28:05.478971Z"
    },
    "tags": [
     "remove-input"
    ]
   },
   "outputs": [
    {
     "data": {
      "text/html": [
       "<iframe width=\"560\" height=\"315\" src=\"https://www.youtube.com/embed/sfI1oDj6syY\" title=\"YouTube video player\" frameborder=\"0\" allow=\"accelerometer; autoplay; clipboard-write; encrypted-media; gyroscope; picture-in-picture\" allowfullscreen></iframe>"
      ],
      "text/plain": [
       "<IPython.core.display.HTML object>"
      ]
     },
     "execution_count": 4,
     "metadata": {},
     "output_type": "execute_result"
    }
   ],
   "source": [
    "from IPython.display import HTML\n",
    "\n",
    "HTML('<iframe width=\"560\" height=\"315\" src=\"https://www.youtube.com/embed/sfI1oDj6syY\" title=\"YouTube video player\" frameborder=\"0\" allow=\"accelerometer; autoplay; clipboard-write; encrypted-media; gyroscope; picture-in-picture\" allowfullscreen></iframe>')"
   ]
  },
  {
   "cell_type": "markdown",
   "id": "691b0cb2",
   "metadata": {},
   "source": [
    "It is fun to apply different python code to process your data in your notebook, but in order to make your code reproducible, you need to put them into functions and classes. When you put your code in the script, the code may break because of some functions. Even if you code doesn’t break, how do you know if your function will work as you expected?\n",
    "\n",
    "For example, we create a function to extract the sentiment of a text with [TextBlob](https://textblob.readthedocs.io/en/dev/), a Python library for processing textual data. We want to make sure it works as we expect: the function returns a value that is greater than 0 if the test is positive and returns a value that is less than 0 if the text is negative.\n",
    "\n",
    "```python\n",
    "from textblob import TextBlob\n",
    "\n",
    "def extract_sentiment(text: str):\n",
    "        '''Extract sentiment using textblob. \n",
    "        Polarity is within range [-1, 1]'''\n",
    "\n",
    "        text = TextBlob(text)\n",
    "\n",
    "        return text.sentiment.polarity\n",
    "```\n",
    "\n",
    "To find out whether the function will return the right value for every time, the best way is to apply the functions to different examples to see if it produces the results we want. That is when testing becomes important.\n",
    "\n",
    "In general, you should use testing for your data science projects because it allows you to:\n",
    "\n",
    "-   Make sure the code works as expected\n",
    "-   Detect edge cases\n",
    "-   Feel confident to swap your existing code with improved code without being afraid of breaking the entire pipeline\n",
    "-   Your teammates can understand your functions by looking at your tests.\n",
    "\n",
    "In this chapter, you will learn how to test your code with Pytest.\n"
   ]
  }
 ],
 "metadata": {
  "celltoolbar": "Tags",
  "kernelspec": {
   "display_name": "Python 3 (ipykernel)",
   "language": "python",
   "name": "python3"
  },
  "language_info": {
   "codemirror_mode": {
    "name": "ipython",
    "version": 3
   },
   "file_extension": ".py",
   "mimetype": "text/x-python",
   "name": "python",
   "nbconvert_exporter": "python",
   "pygments_lexer": "ipython3",
   "version": "3.9.10"
  },
  "toc": {
   "base_numbering": 1,
   "nav_menu": {},
   "number_sections": true,
   "sideBar": true,
   "skip_h1_title": false,
   "title_cell": "Table of Contents",
   "title_sidebar": "Contents",
   "toc_cell": false,
   "toc_position": {},
   "toc_section_display": true,
   "toc_window_display": false
  }
 },
 "nbformat": 4,
 "nbformat_minor": 5
}
