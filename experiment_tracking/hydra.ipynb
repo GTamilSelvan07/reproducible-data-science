{
 "cells": [
  {
   "cell_type": "code",
   "execution_count": 2,
   "metadata": {
    "ExecuteTime": {
     "end_time": "2022-03-24T22:46:17.720017Z",
     "start_time": "2022-03-24T22:46:17.716552Z"
    },
    "tags": [
     "remove-cell"
    ]
   },
   "outputs": [],
   "source": [
    "import warnings\n",
    "warnings.filterwarnings(\"ignore\")"
   ]
  },
  {
   "cell_type": "markdown",
   "metadata": {
    "ExecuteTime": {
     "end_time": "2022-03-28T01:00:43.176803Z",
     "start_time": "2022-03-28T01:00:43.169417Z"
    }
   },
   "source": [
    "[![View the code](https://img.shields.io/badge/GitHub-View_the_Code-blue?logo=GitHub)](https://github.com/khuyentran1401/hydra_demo)"
   ]
  },
  {
   "cell_type": "markdown",
   "metadata": {},
   "source": [
    "## Configure your Data Science Projects with Hydra\n"
   ]
  },
  {
   "cell_type": "markdown",
   "metadata": {},
   "source": [
    "### Introduction"
   ]
  },
  {
   "cell_type": "markdown",
   "metadata": {},
   "source": [
    "[Hydra](https://hydra.cc/) is a simple tool to manage complex configurations in Python. To install Hydra, type:\n",
    "\n",
    "```bash\n",
    "pip install hydra-core\n",
    "```\n",
    "\n",
    "The video below shows some simple features of Hydra. "
   ]
  },
  {
   "cell_type": "code",
   "execution_count": 4,
   "metadata": {
    "ExecuteTime": {
     "end_time": "2022-03-28T01:01:49.850070Z",
     "start_time": "2022-03-28T01:01:49.838752Z"
    },
    "tags": [
     "remove-input"
    ]
   },
   "outputs": [
    {
     "data": {
      "text/html": [
       "<iframe width=\"560\" height=\"315\" src=\"https://www.youtube.com/embed/IzEngnqOaRA\" title=\"YouTube video player\" frameborder=\"0\" allow=\"accelerometer; autoplay; clipboard-write; encrypted-media; gyroscope; picture-in-picture\" allowfullscreen></iframe>"
      ],
      "text/plain": [
       "<IPython.core.display.HTML object>"
      ]
     },
     "execution_count": 4,
     "metadata": {},
     "output_type": "execute_result"
    }
   ],
   "source": [
    "from IPython.display import HTML\n",
    "\n",
    "# Youtube\n",
    "HTML('<iframe width=\"560\" height=\"315\" src=\"https://www.youtube.com/embed/IzEngnqOaRA\" title=\"YouTube video player\" frameborder=\"0\" allow=\"accelerometer; autoplay; clipboard-write; encrypted-media; gyroscope; picture-in-picture\" allowfullscreen></iframe>')\n"
   ]
  },
  {
   "cell_type": "markdown",
   "metadata": {},
   "source": [
    "Imagine your YAML configuration file looks like this:\n",
    "\n",
    "```yaml\n",
    "process:\n",
    "  keep_columns:\n",
    "      - Income\n",
    "      - Recency\n",
    "      - NumWebVisitsMonth\n",
    "      - Complain\n",
    "      - age\n",
    "      - total_purchases\n",
    "      - enrollment_years\n",
    "      - family_size\n",
    "\n",
    "  remove_outliers_threshold:\n",
    "    age: 90\n",
    "    Income: 600000\n",
    "```\n",
    "To access the list under `process.keep_columns` in the configuration file, simple add the `@hydra.main` decorator to the function that uses the configuration:\n",
    "\n",
    "```python\n",
    "import hydra\n",
    "from omegaconf import DictConfig, OmegaConf\n",
    "\n",
    "\n",
    "@hydra.main(config_path=\"../config\", config_name=\"main\")\n",
    "def process_data(config: DictConfig):\n",
    "\n",
    "    print(config.process.keep_columns)\n",
    "\n",
    "process_data()\n",
    "```\n",
    "Output:\n",
    "```bash\n",
    "['Income', 'Recency', 'NumWebVisitsMonth', 'Complain', 'age', 'total_purchases', 'enrollment_years', 'family_size']\n",
    "```"
   ]
  },
  {
   "cell_type": "markdown",
   "metadata": {},
   "source": [
    "### Group Configuration Files"
   ]
  },
  {
   "cell_type": "code",
   "execution_count": 5,
   "metadata": {
    "ExecuteTime": {
     "end_time": "2022-03-28T01:01:57.126129Z",
     "start_time": "2022-03-28T01:01:57.115855Z"
    },
    "tags": [
     "remove-input"
    ]
   },
   "outputs": [
    {
     "data": {
      "text/html": [
       "<iframe width=\"560\" height=\"315\" src=\"https://www.youtube.com/embed/t9hwWxBnU0o?start=55\" title=\"YouTube video player\" frameborder=\"0\" allow=\"accelerometer; autoplay; clipboard-write; encrypted-media; gyroscope; picture-in-picture\" allowfullscreen></iframe>"
      ],
      "text/plain": [
       "<IPython.core.display.HTML object>"
      ]
     },
     "execution_count": 5,
     "metadata": {},
     "output_type": "execute_result"
    }
   ],
   "source": [
    "# Youtube\n",
    "HTML('<iframe width=\"560\" height=\"315\" src=\"https://www.youtube.com/embed/t9hwWxBnU0o?start=55\" title=\"YouTube video player\" frameborder=\"0\" allow=\"accelerometer; autoplay; clipboard-write; encrypted-media; gyroscope; picture-in-picture\" allowfullscreen></iframe>')"
   ]
  },
  {
   "cell_type": "markdown",
   "metadata": {},
   "source": [
    "Imagine the structure of your `config` directory looks like this:\n",
    "\n",
    "```bash\n",
    "config\n",
    "├── main.yaml\n",
    "└── process\n",
    "    ├── process_1.yaml\n",
    "    ├── process_2.yaml\n",
    "    ├── process_3.yaml\n",
    "    └── process_4.yaml\n",
    "```\n",
    "\n",
    "Each file has different values for the same parameters. You can set the parameters in the file `process_2.yaml` as default by adding the following to `main.yaml`:\n",
    "```yaml\n",
    "defaults:\n",
    "  - process: process_2\n",
    "  - _self_\n",
    "```\n",
    "\n",
    "Now the parameters in `main.yaml` are merged with the parameters in `process_2.yaml`.\n",
    "\n",
    "Running the file [`print_config.py`](https://github.com/khuyentran1401/hydra_demo/blob/master/hydra_group/src/print_config.py):\n",
    "\n",
    "```bash\n",
    "python print_config.py\n",
    "```\n",
    "should print:\n",
    "```yaml\n",
    "# From process_2.yaml\n",
    "process:\n",
    "  keep_columns:\n",
    "  - Income\n",
    "  - Recency\n",
    "  - NumWebVisitsMonth\n",
    "  - Complain\n",
    "  - age\n",
    "  - total_purchases\n",
    "  - enrollment_years\n",
    "  - family_size\n",
    "  remove_outliers_threshold:\n",
    "    age: 90\n",
    "    Income: 600000\n",
    "  family_size:\n",
    "    Married: 2\n",
    "    Together: 2\n",
    "    Absurd: 1\n",
    "    Widow: 1\n",
    "    YOLO: 1\n",
    "    Divorced: 1\n",
    "    Single: 1\n",
    "    Alone: 1\n",
    "\n",
    "# From main.yaml\n",
    "raw_data:\n",
    "  path: data/raw/marketing_campaign.csv\n",
    "intermediate:\n",
    "  dir: data/intermediate\n",
    "  name: scale_features.csv\n",
    "  path: ${intermediate.dir}/${intermediate.name}\n",
    "flow: all\n",
    "image:\n",
    "  kmeans: image/elbow.png\n",
    "  clusters: image/cluster.png\n",
    "```\n"
   ]
  },
  {
   "cell_type": "markdown",
   "metadata": {},
   "source": [
    "### Override Default Parameters"
   ]
  },
  {
   "cell_type": "code",
   "execution_count": 2,
   "metadata": {
    "ExecuteTime": {
     "end_time": "2022-03-28T00:58:07.641978Z",
     "start_time": "2022-03-28T00:58:07.632577Z"
    }
   },
   "outputs": [
    {
     "data": {
      "text/html": [
       "<iframe width=\"560\" height=\"315\" src=\"https://www.youtube.com/embed/t9hwWxBnU0o?start=167\" title=\"YouTube video player\" frameborder=\"0\" allow=\"accelerometer; autoplay; clipboard-write; encrypted-media; gyroscope; picture-in-picture\" allowfullscreen></iframe>"
      ],
      "text/plain": [
       "<IPython.core.display.HTML object>"
      ]
     },
     "execution_count": 2,
     "metadata": {},
     "output_type": "execute_result"
    }
   ],
   "source": [
    "HTML('<iframe width=\"560\" height=\"315\" src=\"https://www.youtube.com/embed/t9hwWxBnU0o?start=167\" title=\"YouTube video player\" frameborder=\"0\" allow=\"accelerometer; autoplay; clipboard-write; encrypted-media; gyroscope; picture-in-picture\" allowfullscreen></iframe>')"
   ]
  },
  {
   "cell_type": "markdown",
   "metadata": {},
   "source": [
    "You can also override the default parameters on the command line. For example, to replace `process_2` with `process_1`, run the following:\n",
    "\n",
    "```bash\n",
    "python print_config.py process=process_1\n",
    "```\n",
    "\n",
    "The output should be the combination of all parameters in `main.yaml` and in `process_1.yaml`:\n",
    "```yaml\n",
    "# From process_1.yaml\n",
    "process:\n",
    "  keep_columns:\n",
    "  - Income\n",
    "  - Recency\n",
    "  - NumWebVisitsMonth\n",
    "  - AcceptedCmp3\n",
    "  - AcceptedCmp4\n",
    "  - AcceptedCmp5\n",
    "  - AcceptedCmp1\n",
    "  - AcceptedCmp2\n",
    "  - Complain\n",
    "  - Response\n",
    "  - age\n",
    "  - total_purchases\n",
    "  - enrollment_years\n",
    "  - family_size\n",
    "  remove_outliers_threshold:\n",
    "    age: 90\n",
    "    Income: 600000\n",
    "  family_size:\n",
    "    Married: 2\n",
    "    Together: 2\n",
    "    Absurd: 1\n",
    "    Widow: 1\n",
    "    YOLO: 1\n",
    "    Divorced: 1\n",
    "    Single: 1\n",
    "    Alone: 1\n",
    "    \n",
    "# From main.yaml\n",
    "raw_data:\n",
    "  path: data/raw/marketing_campaign.csv\n",
    "intermediate:\n",
    "  dir: data/intermediate\n",
    "  name: scale_features.csv\n",
    "  path: ${intermediate.dir}/${intermediate.name}\n",
    "flow: all\n",
    "image:\n",
    "  kmeans: image/elbow.png\n",
    "  clusters: image/cluster.png\n",
    "```"
   ]
  }
 ],
 "metadata": {
  "celltoolbar": "Tags",
  "hide_input": false,
  "kernelspec": {
   "display_name": "Python 3 (ipykernel)",
   "language": "python",
   "name": "python3"
  },
  "language_info": {
   "codemirror_mode": {
    "name": "ipython",
    "version": 3
   },
   "file_extension": ".py",
   "mimetype": "text/x-python",
   "name": "python",
   "nbconvert_exporter": "python",
   "pygments_lexer": "ipython3",
   "version": "3.9.10"
  },
  "toc": {
   "base_numbering": 1,
   "nav_menu": {},
   "number_sections": true,
   "sideBar": true,
   "skip_h1_title": false,
   "title_cell": "Table of Contents",
   "title_sidebar": "Contents",
   "toc_cell": false,
   "toc_position": {},
   "toc_section_display": true,
   "toc_window_display": false
  },
  "widgets": {
   "application/vnd.jupyter.widget-state+json": {
    "state": {},
    "version_major": 2,
    "version_minor": 0
   }
  }
 },
 "nbformat": 4,
 "nbformat_minor": 4
}
